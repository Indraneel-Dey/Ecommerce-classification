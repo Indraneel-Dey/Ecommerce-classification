{
 "cells": [
  {
   "cell_type": "code",
   "execution_count": 1,
   "id": "c07deb13",
   "metadata": {
    "_cell_guid": "b1076dfc-b9ad-4769-8c92-a6c4dae69d19",
    "_uuid": "8f2839f25d086af736a60e9eeb907d3b93b6e0e5",
    "execution": {
     "iopub.execute_input": "2023-04-03T05:44:44.625053Z",
     "iopub.status.busy": "2023-04-03T05:44:44.624408Z",
     "iopub.status.idle": "2023-04-03T05:44:44.640138Z",
     "shell.execute_reply": "2023-04-03T05:44:44.639067Z"
    },
    "papermill": {
     "duration": 0.025175,
     "end_time": "2023-04-03T05:44:44.642768",
     "exception": false,
     "start_time": "2023-04-03T05:44:44.617593",
     "status": "completed"
    },
    "tags": []
   },
   "outputs": [
    {
     "name": "stdout",
     "output_type": "stream",
     "text": [
      "/kaggle/input/e-commerce-shoppers-behaviour-understanding/test_data_v2.csv\n",
      "/kaggle/input/e-commerce-shoppers-behaviour-understanding/train_data_v2.csv\n",
      "/kaggle/input/e-commerce-shoppers-behaviour-understanding/sample.csv\n"
     ]
    }
   ],
   "source": [
    "# This Python 3 environment comes with many helpful analytics libraries installed\n",
    "# It is defined by the kaggle/python Docker image: https://github.com/kaggle/docker-python\n",
    "# For example, here's several helpful packages to load\n",
    "\n",
    "import numpy as np # linear algebra\n",
    "import pandas as pd # data processing, CSV file I/O (e.g. pd.read_csv)\n",
    "\n",
    "# Input data files are available in the read-only \"../input/\" directory\n",
    "# For example, running this (by clicking run or pressing Shift+Enter) will list all files under the input directory\n",
    "\n",
    "import os\n",
    "for dirname, _, filenames in os.walk('/kaggle/input'):\n",
    "    for filename in filenames:\n",
    "        print(os.path.join(dirname, filename))\n",
    "\n",
    "# You can write up to 20GB to the current directory (/kaggle/working/) that gets preserved as output when you create a version using \"Save & Run All\" \n",
    "# You can also write temporary files to /kaggle/temp/, but they won't be saved outside of the current session"
   ]
  },
  {
   "cell_type": "code",
   "execution_count": 2,
   "id": "cc68ffdf",
   "metadata": {
    "execution": {
     "iopub.execute_input": "2023-04-03T05:44:44.652821Z",
     "iopub.status.busy": "2023-04-03T05:44:44.651882Z",
     "iopub.status.idle": "2023-04-03T05:44:46.251038Z",
     "shell.execute_reply": "2023-04-03T05:44:46.249728Z"
    },
    "papermill": {
     "duration": 1.607005,
     "end_time": "2023-04-03T05:44:46.253825",
     "exception": false,
     "start_time": "2023-04-03T05:44:44.646820",
     "status": "completed"
    },
    "tags": []
   },
   "outputs": [],
   "source": [
    "from sklearn.experimental import enable_iterative_imputer\n",
    "from sklearn.impute import IterativeImputer\n",
    "from sklearn.preprocessing import OneHotEncoder, StandardScaler, QuantileTransformer\n",
    "from sklearn.ensemble import AdaBoostClassifier, ExtraTreesClassifier, StackingClassifier, IsolationForest\n",
    "from imblearn.over_sampling import BorderlineSMOTE\n",
    "from xgboost import XGBClassifier"
   ]
  },
  {
   "cell_type": "code",
   "execution_count": 3,
   "id": "1b779d9b",
   "metadata": {
    "execution": {
     "iopub.execute_input": "2023-04-03T05:44:46.263696Z",
     "iopub.status.busy": "2023-04-03T05:44:46.263309Z",
     "iopub.status.idle": "2023-04-03T05:44:46.396004Z",
     "shell.execute_reply": "2023-04-03T05:44:46.394922Z"
    },
    "papermill": {
     "duration": 0.140497,
     "end_time": "2023-04-03T05:44:46.398648",
     "exception": false,
     "start_time": "2023-04-03T05:44:46.258151",
     "status": "completed"
    },
    "tags": []
   },
   "outputs": [],
   "source": [
    "train_data = pd.read_csv('/kaggle/input/e-commerce-shoppers-behaviour-understanding/train_data_v2.csv')\n",
    "test_data = pd.read_csv('/kaggle/input/e-commerce-shoppers-behaviour-understanding/test_data_v2.csv')"
   ]
  },
  {
   "cell_type": "code",
   "execution_count": 4,
   "id": "9c7026b5",
   "metadata": {
    "execution": {
     "iopub.execute_input": "2023-04-03T05:44:46.408498Z",
     "iopub.status.busy": "2023-04-03T05:44:46.408065Z",
     "iopub.status.idle": "2023-04-03T05:44:46.421858Z",
     "shell.execute_reply": "2023-04-03T05:44:46.420488Z"
    },
    "papermill": {
     "duration": 0.021968,
     "end_time": "2023-04-03T05:44:46.424651",
     "exception": false,
     "start_time": "2023-04-03T05:44:46.402683",
     "status": "completed"
    },
    "tags": []
   },
   "outputs": [],
   "source": [
    "x_train = train_data.iloc[:, :-1]\n",
    "y_train = train_data.iloc[:, -1]\n",
    "x_test = test_data.iloc[:, :]\n",
    "onehc = OneHotEncoder(drop='first', sparse=False)\n",
    "scaler = StandardScaler()\n",
    "imputer = IterativeImputer(random_state=42)\n",
    "transformer = QuantileTransformer(output_distribution='normal', random_state=42)\n",
    "resampler = BorderlineSMOTE(random_state=42)"
   ]
  },
  {
   "cell_type": "code",
   "execution_count": 5,
   "id": "b41f5506",
   "metadata": {
    "execution": {
     "iopub.execute_input": "2023-04-03T05:44:46.434597Z",
     "iopub.status.busy": "2023-04-03T05:44:46.433882Z",
     "iopub.status.idle": "2023-04-03T05:44:46.521218Z",
     "shell.execute_reply": "2023-04-03T05:44:46.520216Z"
    },
    "papermill": {
     "duration": 0.095107,
     "end_time": "2023-04-03T05:44:46.523789",
     "exception": false,
     "start_time": "2023-04-03T05:44:46.428682",
     "status": "completed"
    },
    "tags": []
   },
   "outputs": [],
   "source": [
    "# Encoding\n",
    "\n",
    "x_train_df = onehc.fit_transform(x_train[['Month_SeasonalPurchase', 'CustomerType', 'Gender', 'Cookies Setting', 'Education', 'Marital Status']])\n",
    "x_test_df = onehc.transform(x_test[['Month_SeasonalPurchase', 'CustomerType', 'Gender', 'Cookies Setting', 'Education', 'Marital Status']])\n",
    "x_train_df = pd.DataFrame(x_train_df, columns=onehc.get_feature_names_out())\n",
    "x_test_df = pd.DataFrame(x_test_df, columns=onehc.get_feature_names_out())\n",
    "x_train = x_train.drop(['Month_SeasonalPurchase', 'CustomerType', 'Gender', 'Cookies Setting', 'Education', 'Marital Status'], axis=1)\n",
    "x_test = x_test.drop(['Month_SeasonalPurchase', 'CustomerType', 'Gender', 'Cookies Setting', 'Education', 'Marital Status'], axis=1)\n",
    "x_train = pd.concat([x_train, x_train_df], axis=1)\n",
    "x_test = pd.concat([x_test, x_test_df], axis=1)"
   ]
  },
  {
   "cell_type": "code",
   "execution_count": 6,
   "id": "37405ff7",
   "metadata": {
    "execution": {
     "iopub.execute_input": "2023-04-03T05:44:46.532936Z",
     "iopub.status.busy": "2023-04-03T05:44:46.532580Z",
     "iopub.status.idle": "2023-04-03T05:44:51.981262Z",
     "shell.execute_reply": "2023-04-03T05:44:51.979692Z"
    },
    "papermill": {
     "duration": 5.458223,
     "end_time": "2023-04-03T05:44:51.985945",
     "exception": false,
     "start_time": "2023-04-03T05:44:46.527722",
     "status": "completed"
    },
    "tags": []
   },
   "outputs": [],
   "source": [
    "# Imputation\n",
    "\n",
    "x_train_impute = imputer.fit_transform(x_train)\n",
    "x_test_impute = imputer.transform(x_test)\n",
    "x_train = pd.DataFrame(x_train_impute, columns=imputer.feature_names_in_)\n",
    "x_test = pd.DataFrame(x_test_impute, columns=imputer.feature_names_in_)"
   ]
  },
  {
   "cell_type": "code",
   "execution_count": 7,
   "id": "9d8c76e9",
   "metadata": {
    "execution": {
     "iopub.execute_input": "2023-04-03T05:44:52.021170Z",
     "iopub.status.busy": "2023-04-03T05:44:52.019319Z",
     "iopub.status.idle": "2023-04-03T05:44:52.039722Z",
     "shell.execute_reply": "2023-04-03T05:44:52.038587Z"
    },
    "papermill": {
     "duration": 0.046539,
     "end_time": "2023-04-03T05:44:52.042553",
     "exception": false,
     "start_time": "2023-04-03T05:44:51.996014",
     "status": "completed"
    },
    "tags": []
   },
   "outputs": [],
   "source": [
    "# Scaling\n",
    "\n",
    "x_train_scale = scaler.fit_transform(x_train)\n",
    "x_test_scale = scaler.transform(x_test)\n",
    "x_train = pd.DataFrame(x_train_scale, columns=scaler.feature_names_in_)\n",
    "x_test = pd.DataFrame(x_test_scale, columns=scaler.feature_names_in_)"
   ]
  },
  {
   "cell_type": "code",
   "execution_count": 8,
   "id": "5b03c39e",
   "metadata": {
    "execution": {
     "iopub.execute_input": "2023-04-03T05:44:52.052371Z",
     "iopub.status.busy": "2023-04-03T05:44:52.051937Z",
     "iopub.status.idle": "2023-04-03T05:44:52.239477Z",
     "shell.execute_reply": "2023-04-03T05:44:52.238256Z"
    },
    "papermill": {
     "duration": 0.195582,
     "end_time": "2023-04-03T05:44:52.242160",
     "exception": false,
     "start_time": "2023-04-03T05:44:52.046578",
     "status": "completed"
    },
    "tags": []
   },
   "outputs": [],
   "source": [
    "# Transformation\n",
    "\n",
    "x_train_trans = transformer.fit_transform(x_train)\n",
    "x_test_trans = transformer.transform(x_test)\n",
    "x_train = pd.DataFrame(x_train_trans, columns=transformer.feature_names_in_)\n",
    "x_test = pd.DataFrame(x_test_trans, columns=transformer.feature_names_in_)"
   ]
  },
  {
   "cell_type": "code",
   "execution_count": 9,
   "id": "413beef5",
   "metadata": {
    "execution": {
     "iopub.execute_input": "2023-04-03T05:44:52.252017Z",
     "iopub.status.busy": "2023-04-03T05:44:52.251584Z",
     "iopub.status.idle": "2023-04-03T05:44:53.399559Z",
     "shell.execute_reply": "2023-04-03T05:44:53.398375Z"
    },
    "papermill": {
     "duration": 1.155933,
     "end_time": "2023-04-03T05:44:53.402221",
     "exception": false,
     "start_time": "2023-04-03T05:44:52.246288",
     "status": "completed"
    },
    "tags": []
   },
   "outputs": [],
   "source": [
    "# Outlier Detection & Removal\n",
    "\n",
    "data = pd.concat([x_train, y_train], axis=1)\n",
    "clf = IsolationForest(random_state=42).fit_predict(data)\n",
    "clf_df = pd.DataFrame(clf, columns=['score'])\n",
    "data = pd.concat([data, clf_df], axis=1)\n",
    "data = data[data['score'] == 1]\n",
    "data = data.drop(['score'], axis=1)\n",
    "x_train = data.iloc[:, :-1]\n",
    "y_train = data.iloc[:, -1]\n",
    "y_train = y_train.astype('int')"
   ]
  },
  {
   "cell_type": "code",
   "execution_count": 10,
   "id": "2ac78eee",
   "metadata": {
    "execution": {
     "iopub.execute_input": "2023-04-03T05:44:53.411623Z",
     "iopub.status.busy": "2023-04-03T05:44:53.411174Z",
     "iopub.status.idle": "2023-04-03T05:44:55.682116Z",
     "shell.execute_reply": "2023-04-03T05:44:55.680586Z"
    },
    "papermill": {
     "duration": 2.27901,
     "end_time": "2023-04-03T05:44:55.685117",
     "exception": false,
     "start_time": "2023-04-03T05:44:53.406107",
     "status": "completed"
    },
    "tags": []
   },
   "outputs": [],
   "source": [
    "# Class Rebalancing\n",
    "\n",
    "x_train_resample, y_train = resampler.fit_resample(x_train, y_train)\n",
    "x_train = pd.DataFrame(x_train_resample, columns=resampler.feature_names_in_)"
   ]
  },
  {
   "cell_type": "code",
   "execution_count": 11,
   "id": "6e1aa62a",
   "metadata": {
    "execution": {
     "iopub.execute_input": "2023-04-03T05:44:55.696353Z",
     "iopub.status.busy": "2023-04-03T05:44:55.695069Z",
     "iopub.status.idle": "2023-04-03T05:48:28.836896Z",
     "shell.execute_reply": "2023-04-03T05:48:28.835814Z"
    },
    "papermill": {
     "duration": 213.150805,
     "end_time": "2023-04-03T05:48:28.839991",
     "exception": false,
     "start_time": "2023-04-03T05:44:55.689186",
     "status": "completed"
    },
    "tags": []
   },
   "outputs": [],
   "source": [
    "# Estimation\n",
    "\n",
    "xgb = XGBClassifier(max_depth=8, learning_rate=0.01, colsample_bytree=0.3, random_state=42)\n",
    "et = ExtraTreesClassifier(n_estimators=1000, random_state=0)\n",
    "ada = AdaBoostClassifier(n_estimators=49, random_state=0)\n",
    "estimators = [('ada', ada), ('et', et)]\n",
    "classifier = StackingClassifier(estimators=estimators, final_estimator=xgb, passthrough=True)\n",
    "classifier.fit(x_train, y_train)\n",
    "y_pred = classifier.predict(x_test)"
   ]
  },
  {
   "cell_type": "code",
   "execution_count": 12,
   "id": "2b342356",
   "metadata": {
    "execution": {
     "iopub.execute_input": "2023-04-03T05:48:28.851427Z",
     "iopub.status.busy": "2023-04-03T05:48:28.851028Z",
     "iopub.status.idle": "2023-04-03T05:48:28.869386Z",
     "shell.execute_reply": "2023-04-03T05:48:28.868382Z"
    },
    "papermill": {
     "duration": 0.027062,
     "end_time": "2023-04-03T05:48:28.872170",
     "exception": false,
     "start_time": "2023-04-03T05:48:28.845108",
     "status": "completed"
    },
    "tags": []
   },
   "outputs": [],
   "source": [
    "df = pd.DataFrame()\n",
    "df['id'] = range(6599)\n",
    "df['Made_Purchase'] = y_pred\n",
    "df['Made_Purchase'] = df['Made_Purchase'].astype(bool)\n",
    "df.to_csv('submission.csv', index=False)"
   ]
  }
 ],
 "metadata": {
  "kernelspec": {
   "display_name": "Python 3",
   "language": "python",
   "name": "python3"
  },
  "language_info": {
   "codemirror_mode": {
    "name": "ipython",
    "version": 3
   },
   "file_extension": ".py",
   "mimetype": "text/x-python",
   "name": "python",
   "nbconvert_exporter": "python",
   "pygments_lexer": "ipython3",
   "version": "3.7.12"
  },
  "papermill": {
   "default_parameters": {},
   "duration": 235.317664,
   "end_time": "2023-04-03T05:48:29.901703",
   "environment_variables": {},
   "exception": null,
   "input_path": "__notebook__.ipynb",
   "output_path": "__notebook__.ipynb",
   "parameters": {},
   "start_time": "2023-04-03T05:44:34.584039",
   "version": "2.3.4"
  }
 },
 "nbformat": 4,
 "nbformat_minor": 5
}
