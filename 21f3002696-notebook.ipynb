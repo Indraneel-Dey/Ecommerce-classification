{
 "cells": [
  {
   "cell_type": "code",
   "execution_count": 1,
   "id": "b789b21b",
   "metadata": {
    "_cell_guid": "b1076dfc-b9ad-4769-8c92-a6c4dae69d19",
    "_uuid": "8f2839f25d086af736a60e9eeb907d3b93b6e0e5",
    "execution": {
     "iopub.execute_input": "2023-04-12T16:32:23.981461Z",
     "iopub.status.busy": "2023-04-12T16:32:23.980983Z",
     "iopub.status.idle": "2023-04-12T16:32:23.994016Z",
     "shell.execute_reply": "2023-04-12T16:32:23.992905Z"
    },
    "papermill": {
     "duration": 0.021913,
     "end_time": "2023-04-12T16:32:23.996951",
     "exception": false,
     "start_time": "2023-04-12T16:32:23.975038",
     "status": "completed"
    },
    "tags": []
   },
   "outputs": [
    {
     "name": "stdout",
     "output_type": "stream",
     "text": [
      "/kaggle/input/e-commerce-shoppers-behaviour-understanding/test_data_v2.csv\n",
      "/kaggle/input/e-commerce-shoppers-behaviour-understanding/train_data_v2.csv\n",
      "/kaggle/input/e-commerce-shoppers-behaviour-understanding/sample.csv\n"
     ]
    }
   ],
   "source": [
    "import numpy as np\n",
    "import pandas as pd\n",
    "import os\n",
    "for dirname, _, filenames in os.walk('/kaggle/input'):\n",
    "    for filename in filenames:\n",
    "        print(os.path.join(dirname, filename))"
   ]
  },
  {
   "cell_type": "code",
   "execution_count": 2,
   "id": "c7d5dcfc",
   "metadata": {
    "execution": {
     "iopub.execute_input": "2023-04-12T16:32:24.005941Z",
     "iopub.status.busy": "2023-04-12T16:32:24.005158Z",
     "iopub.status.idle": "2023-04-12T16:32:25.548130Z",
     "shell.execute_reply": "2023-04-12T16:32:25.546922Z"
    },
    "papermill": {
     "duration": 1.550546,
     "end_time": "2023-04-12T16:32:25.551079",
     "exception": false,
     "start_time": "2023-04-12T16:32:24.000533",
     "status": "completed"
    },
    "tags": []
   },
   "outputs": [],
   "source": [
    "from sklearn.experimental import enable_iterative_imputer\n",
    "from sklearn.impute import IterativeImputer\n",
    "from sklearn.preprocessing import OneHotEncoder, MinMaxScaler, QuantileTransformer\n",
    "from sklearn.feature_selection import VarianceThreshold\n",
    "from sklearn.ensemble import ExtraTreesClassifier, AdaBoostClassifier, StackingClassifier, IsolationForest\n",
    "from sklearn.compose import make_column_transformer\n",
    "from sklearn.pipeline import make_pipeline\n",
    "from imblearn.over_sampling import BorderlineSMOTE\n",
    "from xgboost import XGBClassifier"
   ]
  },
  {
   "cell_type": "code",
   "execution_count": 3,
   "id": "f957fdfa",
   "metadata": {
    "execution": {
     "iopub.execute_input": "2023-04-12T16:32:25.559549Z",
     "iopub.status.busy": "2023-04-12T16:32:25.559174Z",
     "iopub.status.idle": "2023-04-12T16:32:25.685033Z",
     "shell.execute_reply": "2023-04-12T16:32:25.684025Z"
    },
    "papermill": {
     "duration": 0.13319,
     "end_time": "2023-04-12T16:32:25.687822",
     "exception": false,
     "start_time": "2023-04-12T16:32:25.554632",
     "status": "completed"
    },
    "tags": []
   },
   "outputs": [],
   "source": [
    "train_data = pd.read_csv('/kaggle/input/e-commerce-shoppers-behaviour-understanding/train_data_v2.csv')\n",
    "test_data = pd.read_csv('/kaggle/input/e-commerce-shoppers-behaviour-understanding/test_data_v2.csv')"
   ]
  },
  {
   "cell_type": "code",
   "execution_count": 4,
   "id": "b86f2378",
   "metadata": {
    "execution": {
     "iopub.execute_input": "2023-04-12T16:32:25.696365Z",
     "iopub.status.busy": "2023-04-12T16:32:25.696004Z",
     "iopub.status.idle": "2023-04-12T16:32:25.710735Z",
     "shell.execute_reply": "2023-04-12T16:32:25.709633Z"
    },
    "papermill": {
     "duration": 0.021718,
     "end_time": "2023-04-12T16:32:25.713154",
     "exception": false,
     "start_time": "2023-04-12T16:32:25.691436",
     "status": "completed"
    },
    "tags": []
   },
   "outputs": [],
   "source": [
    "x_train = train_data.iloc[:, :-1]\n",
    "y_train = train_data.iloc[:, -1]\n",
    "x_test = test_data.iloc[:, :]\n",
    "outlier = IsolationForest(random_state=42)\n",
    "resampler = BorderlineSMOTE(random_state=42)\n",
    "selector = VarianceThreshold(threshold=0.3)\n",
    "encoder = make_column_transformer((OneHotEncoder(drop='first', sparse=False), ['Month_SeasonalPurchase', 'CustomerType', 'Gender', 'Cookies Setting', 'Education', 'Marital Status']), remainder='passthrough', verbose_feature_names_out=False)\n",
    "pipe = make_pipeline(encoder, IterativeImputer(random_state=42), MinMaxScaler(), QuantileTransformer(output_distribution='normal', random_state=42))"
   ]
  },
  {
   "cell_type": "code",
   "execution_count": 5,
   "id": "d9931178",
   "metadata": {
    "execution": {
     "iopub.execute_input": "2023-04-12T16:32:25.722402Z",
     "iopub.status.busy": "2023-04-12T16:32:25.721535Z",
     "iopub.status.idle": "2023-04-12T16:32:31.627100Z",
     "shell.execute_reply": "2023-04-12T16:32:31.626013Z"
    },
    "papermill": {
     "duration": 5.913062,
     "end_time": "2023-04-12T16:32:31.629802",
     "exception": false,
     "start_time": "2023-04-12T16:32:25.716740",
     "status": "completed"
    },
    "tags": []
   },
   "outputs": [],
   "source": [
    "# Encoding, Imputation, Scaling, Transformation\n",
    "\n",
    "x_train = pd.DataFrame(pipe.fit_transform(x_train), columns=encoder.get_feature_names_out())\n",
    "x_test = pd.DataFrame(pipe.transform(x_test), columns=encoder.get_feature_names_out())"
   ]
  },
  {
   "cell_type": "code",
   "execution_count": 6,
   "id": "88746973",
   "metadata": {
    "execution": {
     "iopub.execute_input": "2023-04-12T16:32:31.641391Z",
     "iopub.status.busy": "2023-04-12T16:32:31.640650Z",
     "iopub.status.idle": "2023-04-12T16:32:32.704983Z",
     "shell.execute_reply": "2023-04-12T16:32:32.703944Z"
    },
    "papermill": {
     "duration": 1.073397,
     "end_time": "2023-04-12T16:32:32.707943",
     "exception": false,
     "start_time": "2023-04-12T16:32:31.634546",
     "status": "completed"
    },
    "tags": []
   },
   "outputs": [],
   "source": [
    "# Outlier Detection & Removal\n",
    "\n",
    "data = pd.concat([x_train, y_train], axis=1)\n",
    "clf = outlier.fit_predict(data)\n",
    "clf_df = pd.DataFrame(clf, columns=['score'])\n",
    "data = pd.concat([data, clf_df], axis=1)\n",
    "data = data[data['score'] == 1]\n",
    "data = data.drop(['score'], axis=1)\n",
    "x_train = data.iloc[:, :-1]\n",
    "y_train = data.iloc[:, -1]\n",
    "y_train = y_train.astype('int')"
   ]
  },
  {
   "cell_type": "code",
   "execution_count": 7,
   "id": "bf4f12d7",
   "metadata": {
    "execution": {
     "iopub.execute_input": "2023-04-12T16:32:32.716552Z",
     "iopub.status.busy": "2023-04-12T16:32:32.716157Z",
     "iopub.status.idle": "2023-04-12T16:32:34.769761Z",
     "shell.execute_reply": "2023-04-12T16:32:34.768452Z"
    },
    "papermill": {
     "duration": 2.061044,
     "end_time": "2023-04-12T16:32:34.772604",
     "exception": false,
     "start_time": "2023-04-12T16:32:32.711560",
     "status": "completed"
    },
    "tags": []
   },
   "outputs": [],
   "source": [
    "# Class Rebalancing\n",
    "\n",
    "x_train_resample, y_train = resampler.fit_resample(x_train, y_train)\n",
    "x_train = pd.DataFrame(x_train_resample)"
   ]
  },
  {
   "cell_type": "code",
   "execution_count": 8,
   "id": "6cd58573",
   "metadata": {
    "execution": {
     "iopub.execute_input": "2023-04-12T16:32:34.781631Z",
     "iopub.status.busy": "2023-04-12T16:32:34.781215Z",
     "iopub.status.idle": "2023-04-12T16:32:34.806440Z",
     "shell.execute_reply": "2023-04-12T16:32:34.805242Z"
    },
    "papermill": {
     "duration": 0.032972,
     "end_time": "2023-04-12T16:32:34.809181",
     "exception": false,
     "start_time": "2023-04-12T16:32:34.776209",
     "status": "completed"
    },
    "tags": []
   },
   "outputs": [],
   "source": [
    "# Feature Selection\n",
    "\n",
    "x_train = pd.DataFrame(selector.fit_transform(x_train), columns=selector.get_feature_names_out())\n",
    "x_test = pd.DataFrame(selector.transform(x_test), columns=selector.get_feature_names_out())"
   ]
  },
  {
   "cell_type": "code",
   "execution_count": 9,
   "id": "8d1e9f28",
   "metadata": {
    "execution": {
     "iopub.execute_input": "2023-04-12T16:32:34.817925Z",
     "iopub.status.busy": "2023-04-12T16:32:34.817495Z",
     "iopub.status.idle": "2023-04-12T16:35:58.875954Z",
     "shell.execute_reply": "2023-04-12T16:35:58.874954Z"
    },
    "papermill": {
     "duration": 204.066066,
     "end_time": "2023-04-12T16:35:58.878774",
     "exception": false,
     "start_time": "2023-04-12T16:32:34.812708",
     "status": "completed"
    },
    "tags": []
   },
   "outputs": [],
   "source": [
    "# Estimation\n",
    "\n",
    "xgb = XGBClassifier(max_depth=8, learning_rate=0.01, colsample_bytree=0.3, objective=\"binary:logistic\", random_state=42)\n",
    "ada = AdaBoostClassifier(n_estimators=49, random_state=0)\n",
    "et = ExtraTreesClassifier(n_estimators=1000, random_state=0)\n",
    "estimators = [('ada', ada), ('et', et)]\n",
    "classifier = StackingClassifier(estimators=estimators, final_estimator=xgb, passthrough=True)\n",
    "\n",
    "classifier.fit(x_train, y_train)\n",
    "y_pred = classifier.predict(x_test)"
   ]
  },
  {
   "cell_type": "code",
   "execution_count": 10,
   "id": "2171a9ec",
   "metadata": {
    "execution": {
     "iopub.execute_input": "2023-04-12T16:35:58.888507Z",
     "iopub.status.busy": "2023-04-12T16:35:58.888006Z",
     "iopub.status.idle": "2023-04-12T16:35:58.907955Z",
     "shell.execute_reply": "2023-04-12T16:35:58.906802Z"
    },
    "papermill": {
     "duration": 0.027974,
     "end_time": "2023-04-12T16:35:58.911020",
     "exception": false,
     "start_time": "2023-04-12T16:35:58.883046",
     "status": "completed"
    },
    "tags": []
   },
   "outputs": [],
   "source": [
    "# Submission\n",
    "\n",
    "df = pd.DataFrame()\n",
    "df['id'] = range(6599)\n",
    "df['Made_Purchase'] = y_pred\n",
    "df['Made_Purchase'] = df['Made_Purchase'].astype(bool)\n",
    "df.to_csv('submission.csv', index=False)"
   ]
  }
 ],
 "metadata": {
  "kernelspec": {
   "display_name": "Python 3",
   "language": "python",
   "name": "python3"
  },
  "language_info": {
   "codemirror_mode": {
    "name": "ipython",
    "version": 3
   },
   "file_extension": ".py",
   "mimetype": "text/x-python",
   "name": "python",
   "nbconvert_exporter": "python",
   "pygments_lexer": "ipython3",
   "version": "3.7.12"
  },
  "papermill": {
   "default_parameters": {},
   "duration": 225.451982,
   "end_time": "2023-04-12T16:35:59.840288",
   "environment_variables": {},
   "exception": null,
   "input_path": "__notebook__.ipynb",
   "output_path": "__notebook__.ipynb",
   "parameters": {},
   "start_time": "2023-04-12T16:32:14.388306",
   "version": "2.3.4"
  }
 },
 "nbformat": 4,
 "nbformat_minor": 5
}
